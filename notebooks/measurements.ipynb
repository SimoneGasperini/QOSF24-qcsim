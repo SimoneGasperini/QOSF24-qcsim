{
 "cells": [
  {
   "cell_type": "code",
   "execution_count": 1,
   "metadata": {},
   "outputs": [
    {
     "name": "stdout",
     "output_type": "stream",
     "text": [
      "The GHZ state is a uniform superposition of |0000> and |1111>\n",
      "Counts = {'0000': 478, '1111': 522}\n"
     ]
    }
   ],
   "source": [
    "from qcsim.misc import naive_ghz_state_circuit\n",
    "from qcsim import Simulator\n",
    "\n",
    "# define quantum circuit preparing GHZ state\n",
    "circuit = naive_ghz_state_circuit(num_qubits=4)\n",
    "\n",
    "# run simulation of quantum circuit\n",
    "sim = Simulator(method='tensor-mul')\n",
    "sim.run(circuit=circuit)\n",
    "\n",
    "# sample final statevector and show result\n",
    "counts = sim.sample(num_shots=1000)\n",
    "print('The GHZ state is a uniform superposition of |0000> and |1111>')\n",
    "print('Counts =', counts)"
   ]
  },
  {
   "cell_type": "code",
   "execution_count": 2,
   "metadata": {},
   "outputs": [
    {
     "name": "stdout",
     "output_type": "stream",
     "text": [
      "In this case we have <111|(2Z)x(2Z)x(2Z)|111> = (-1)^3 * 2^3\n",
      "<Psi|O|Psi> = -8.0\n"
     ]
    }
   ],
   "source": [
    "import functools\n",
    "import numpy as np\n",
    "from qcsim import Circuit\n",
    "from qcsim.gates import X\n",
    "\n",
    "# define trivial quantum circuit\n",
    "num_qubits = 3\n",
    "circuit = Circuit(num_qubits)\n",
    "for i in range(num_qubits):\n",
    "    circuit.add(X(i))\n",
    "\n",
    "# run simulation of quantum circuit\n",
    "sim = Simulator(method='tensor-mul')\n",
    "sim.run(circuit=circuit)\n",
    "\n",
    "# define quantum observable\n",
    "z = np.array([[1, 0],\n",
    "              [0, -1]])\n",
    "obs = functools.reduce(np.kron, [2*z] * num_qubits)\n",
    "\n",
    "# compute expectation value exactly and show result\n",
    "val = sim.expval(observable=obs)\n",
    "print('In this case we have <111|(2Z)x(2Z)x(2Z)|111> = (-1)^3 * 2^3')\n",
    "print('<Psi|O|Psi> =', val)"
   ]
  }
 ],
 "metadata": {
  "kernelspec": {
   "display_name": "qiskit-env",
   "language": "python",
   "name": "python3"
  },
  "language_info": {
   "codemirror_mode": {
    "name": "ipython",
    "version": 3
   },
   "file_extension": ".py",
   "mimetype": "text/x-python",
   "name": "python",
   "nbconvert_exporter": "python",
   "pygments_lexer": "ipython3",
   "version": "3.12.4"
  }
 },
 "nbformat": 4,
 "nbformat_minor": 2
}
